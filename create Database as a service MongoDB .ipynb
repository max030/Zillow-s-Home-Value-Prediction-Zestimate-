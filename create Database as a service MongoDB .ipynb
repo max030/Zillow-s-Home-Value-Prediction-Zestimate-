{
 "cells": [
  {
   "cell_type": "code",
   "execution_count": 24,
   "metadata": {
    "collapsed": true
   },
   "outputs": [],
   "source": [
    "import boto3\n",
    "from boto.s3.connection import S3Connection\n",
    "import os\n",
    "import json\n",
    "import boto.s3\n",
    "import sys\n",
    "import datetime\n",
    "from boto.s3.key import Key\n",
    "from pprint import pprint\n",
    "import pandas as pd\n",
    "import urllib\n",
    "import csv\n",
    "import io\n",
    "import requests\n",
    "import time\n",
    "import json\n",
    "import datetime\n",
    "from pprint import pprint\n",
    "import scipy\n",
    "import numpy as np\n",
    "import pymongo\n",
    "import csv\n",
    "import json\n",
    "import pandas as pd\n",
    "import sys, getopt, pprint\n",
    "from pymongo import MongoClient\n",
    "import pprint"
   ]
  },
  {
   "cell_type": "code",
   "execution_count": 32,
   "metadata": {
    "collapsed": false
   },
   "outputs": [
    {
     "name": "stdout",
     "output_type": "stream",
     "text": [
      "<pymongo.cursor.Cursor object at 0x0000023B0B510C50>\n",
      "Database(MongoClient(host=['localhost:27017'], document_class=dict, tz_aware=False, connect=True), 'zillowtestdb')\n",
      "2985342\n"
     ]
    }
   ],
   "source": [
    "client = MongoClient()\n",
    "db = client.zillowtestdb\n",
    "\n",
    "\n",
    "records = db.zillowdata.find().limit(5)\n",
    "print(records)\n",
    "print (db)\n",
    "print (db.zillowdata.count())\n",
    "\n"
   ]
  },
  {
   "cell_type": "code",
   "execution_count": 28,
   "metadata": {
    "collapsed": false
   },
   "outputs": [
    {
     "name": "stdout",
     "output_type": "stream",
     "text": [
      "{'_id': ObjectId('5960538ca18be770834d7374'), 'parcelid': 11016594, 'airconditioningtypeid': 1, 'architecturalstyletypeid': 19, 'basementsqft': 0, 'bedroomcnt': 3, 'buildingclasstypeid': 5, 'decktypeid': 'False', 'typeconstructiontypeid': 14, 'finishedsquarefeet50': 0, 'calculatedfinishedsquarefeet': 1684, 'fips': 6037, 'fireplacecnt': 0, 'fullbathcnt': 2, 'garagecarcnt': 0, 'garagetotalsqft': 0.0, 'hashottuborspa': 'False', 'heatingorsystemtypeid': 2, 'latitude': 34280990.0, 'longitude': -118488536.0, 'lotsizesquarefeet': 7528.0, 'poolcnt': 'False', 'poolsizesum': 0, 'propertycountylandusecode': 100, 'propertylandusetypeid': 261, 'unitcnt': 1, 'propertyzoningdesc': 'LARS', 'rawcensustractandblock': 60371066.461001, 'regionidcity': 12447, 'regionidcounty': 3101, 'regionidzip': 96370, 'roomcnt': 0, 'threequarterbathnbr': 0, 'yardbuildingsqft17': 0, 'yardbuildingsqft26': 0, 'yearbuilt': 1959, 'numberofstories': 0, 'structuretaxvaluedollarcnt': 122754, 'assessmentyear': 2015.0, 'landtaxvaluedollarcnt': 237416, 'taxamount': 6735, 'taxdelinquencyyear': 0, 'transactiondate': '2016-01-01', 'logerror': 0.0276}\n",
      "{'_id': ObjectId('5960538ca18be770834d7375'), 'parcelid': 14366692, 'airconditioningtypeid': 5, 'architecturalstyletypeid': 19, 'basementsqft': 0, 'bedroomcnt': 4, 'buildingclasstypeid': 5, 'decktypeid': 'False', 'typeconstructiontypeid': 14, 'finishedsquarefeet50': 0, 'calculatedfinishedsquarefeet': 2263, 'fips': 6059, 'fireplacecnt': 0, 'fullbathcnt': 3, 'garagecarcnt': 2, 'garagetotalsqft': 468.0, 'hashottuborspa': 'False', 'heatingorsystemtypeid': 13, 'latitude': 33668120.0, 'longitude': -117677556.0, 'lotsizesquarefeet': 3643.0, 'poolcnt': 'False', 'poolsizesum': 0, 'propertycountylandusecode': 1, 'propertylandusetypeid': 261, 'unitcnt': 0, 'rawcensustractandblock': 60590524.222024, 'regionidcity': 32380, 'regionidcounty': 1286, 'regionidzip': 96962, 'roomcnt': 0, 'threequarterbathnbr': 1, 'yardbuildingsqft17': 0, 'yardbuildingsqft26': 0, 'yearbuilt': 2014, 'numberofstories': 0, 'structuretaxvaluedollarcnt': 346458, 'assessmentyear': 2015.0, 'landtaxvaluedollarcnt': 239071, 'taxamount': 10153, 'taxdelinquencyyear': 0, 'transactiondate': '2016-01-01', 'logerror': -0.1684}\n",
      "{'_id': ObjectId('5960538ca18be770834d7376'), 'parcelid': 12098116, 'airconditioningtypeid': 1, 'architecturalstyletypeid': 19, 'basementsqft': 0, 'bedroomcnt': 2, 'buildingclasstypeid': 5, 'decktypeid': 'False', 'typeconstructiontypeid': 14, 'finishedsquarefeet50': 0, 'calculatedfinishedsquarefeet': 2217, 'fips': 6037, 'fireplacecnt': 0, 'fullbathcnt': 3, 'garagecarcnt': 0, 'garagetotalsqft': 0.0, 'hashottuborspa': 'False', 'heatingorsystemtypeid': 2, 'latitude': 34136312.0, 'longitude': -118175032.0, 'lotsizesquarefeet': 11423.0, 'poolcnt': 'False', 'poolsizesum': 0, 'propertycountylandusecode': 100, 'propertylandusetypeid': 261, 'unitcnt': 1, 'propertyzoningdesc': 'PSR6', 'rawcensustractandblock': 60374638.00300401, 'regionidcity': 47019, 'regionidcounty': 3101, 'regionidzip': 96293, 'roomcnt': 0, 'threequarterbathnbr': 0, 'yardbuildingsqft17': 0, 'yardbuildingsqft26': 0, 'yearbuilt': 1940, 'numberofstories': 0, 'structuretaxvaluedollarcnt': 61994, 'assessmentyear': 2015.0, 'landtaxvaluedollarcnt': 57912, 'taxamount': 11484, 'taxdelinquencyyear': 0, 'transactiondate': '2016-01-01', 'logerror': -0.004}\n",
      "{'_id': ObjectId('5960538ca18be770834d7377'), 'parcelid': 12643413, 'airconditioningtypeid': 1, 'architecturalstyletypeid': 19, 'basementsqft': 0, 'bedroomcnt': 2, 'buildingclasstypeid': 5, 'decktypeid': 'False', 'typeconstructiontypeid': 14, 'finishedsquarefeet50': 0, 'calculatedfinishedsquarefeet': 839, 'fips': 6037, 'fireplacecnt': 0, 'fullbathcnt': 2, 'garagecarcnt': 0, 'garagetotalsqft': 0.0, 'hashottuborspa': 'False', 'heatingorsystemtypeid': 2, 'latitude': 33755800.0, 'longitude': -118309000.0, 'lotsizesquarefeet': 70859.0, 'poolcnt': 'False', 'poolsizesum': 0, 'propertycountylandusecode': '010C', 'propertylandusetypeid': 266, 'unitcnt': 1, 'propertyzoningdesc': 'LAR3', 'rawcensustractandblock': 60372963.002002, 'regionidcity': 12447, 'regionidcounty': 3101, 'regionidzip': 96222, 'roomcnt': 0, 'threequarterbathnbr': 0, 'yardbuildingsqft17': 0, 'yardbuildingsqft26': 0, 'yearbuilt': 1987, 'numberofstories': 0, 'structuretaxvaluedollarcnt': 171518, 'assessmentyear': 2015.0, 'landtaxvaluedollarcnt': 73362, 'taxamount': 3048, 'taxdelinquencyyear': 0, 'transactiondate': '2016-01-02', 'logerror': 0.0218}\n",
      "{'_id': ObjectId('5960538ca18be770834d7378'), 'parcelid': 14432541, 'airconditioningtypeid': 5, 'architecturalstyletypeid': 19, 'basementsqft': 0, 'bedroomcnt': 4, 'buildingclasstypeid': 5, 'decktypeid': 'False', 'typeconstructiontypeid': 14, 'finishedsquarefeet50': 0, 'calculatedfinishedsquarefeet': 2283, 'fips': 6059, 'fireplacecnt': 0, 'fullbathcnt': 2, 'garagecarcnt': 2, 'garagetotalsqft': 598.0, 'hashottuborspa': 'False', 'heatingorsystemtypeid': 13, 'latitude': 33485643.0, 'longitude': -117700234.0, 'lotsizesquarefeet': 6000.0, 'poolcnt': 'True', 'poolsizesum': 0, 'propertycountylandusecode': 122, 'propertylandusetypeid': 261, 'unitcnt': 0, 'rawcensustractandblock': 60590423.381006, 'regionidcity': 17686, 'regionidcounty': 1286, 'regionidzip': 96961, 'roomcnt': 8, 'threequarterbathnbr': 1, 'yardbuildingsqft17': 0, 'yardbuildingsqft26': 0, 'yearbuilt': 1981, 'numberofstories': 2, 'structuretaxvaluedollarcnt': 169574, 'assessmentyear': 2015.0, 'landtaxvaluedollarcnt': 264977, 'taxamount': 5488, 'taxdelinquencyyear': 0, 'transactiondate': '2016-01-02', 'logerror': -0.005}\n"
     ]
    }
   ],
   "source": [
    "for rows in records:\n",
    "    print (rows)"
   ]
  },
  {
   "cell_type": "code",
   "execution_count": 19,
   "metadata": {
    "collapsed": true
   },
   "outputs": [],
   "source": [
    "for doc in records:\n",
    "       print(doc)"
   ]
  },
  {
   "cell_type": "code",
   "execution_count": 29,
   "metadata": {
    "collapsed": false
   },
   "outputs": [
    {
     "data": {
      "text/plain": [
       "['admin', 'local', 'pymongo_test', 'zillowtestdb']"
      ]
     },
     "execution_count": 29,
     "metadata": {},
     "output_type": "execute_result"
    }
   ],
   "source": [
    "client.database_names()"
   ]
  },
  {
   "cell_type": "code",
   "execution_count": 30,
   "metadata": {
    "collapsed": false
   },
   "outputs": [
    {
     "data": {
      "text/plain": [
       "['zillowdata']"
      ]
     },
     "execution_count": 30,
     "metadata": {},
     "output_type": "execute_result"
    }
   ],
   "source": [
    "db.collection_names()"
   ]
  },
  {
   "cell_type": "code",
   "execution_count": null,
   "metadata": {
    "collapsed": true
   },
   "outputs": [],
   "source": []
  }
 ],
 "metadata": {
  "kernelspec": {
   "display_name": "Python 3",
   "language": "python",
   "name": "python3"
  },
  "language_info": {
   "codemirror_mode": {
    "name": "ipython",
    "version": 3
   },
   "file_extension": ".py",
   "mimetype": "text/x-python",
   "name": "python",
   "nbconvert_exporter": "python",
   "pygments_lexer": "ipython3",
   "version": "3.6.0"
  }
 },
 "nbformat": 4,
 "nbformat_minor": 2
}
